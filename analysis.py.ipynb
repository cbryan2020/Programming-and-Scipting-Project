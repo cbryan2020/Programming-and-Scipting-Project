{
 "cells": [
  {
   "cell_type": "code",
   "execution_count": 1,
   "id": "478e77e0",
   "metadata": {},
   "outputs": [
    {
     "name": "stdout",
     "output_type": "stream",
     "text": [
      "Requirement already satisfied: scikit-learn in ./anaconda3/lib/python3.10/site-packages (1.2.2)\n",
      "Requirement already satisfied: scipy>=1.3.2 in ./anaconda3/lib/python3.10/site-packages (from scikit-learn) (1.10.0)\n",
      "Requirement already satisfied: numpy>=1.17.3 in ./anaconda3/lib/python3.10/site-packages (from scikit-learn) (1.23.5)\n",
      "Requirement already satisfied: threadpoolctl>=2.0.0 in ./anaconda3/lib/python3.10/site-packages (from scikit-learn) (2.2.0)\n",
      "Requirement already satisfied: joblib>=1.1.1 in ./anaconda3/lib/python3.10/site-packages (from scikit-learn) (1.1.1)\n",
      "Note: you may need to restart the kernel to use updated packages.\n"
     ]
    }
   ],
   "source": [
    "pip install -U scikit-learn"
   ]
  },
  {
   "cell_type": "code",
   "execution_count": 2,
   "id": "f83e14d9",
   "metadata": {},
   "outputs": [
    {
     "data": {
      "image/png": "[encoded data removed]",
      "text/plain": [
       "<Figure size 640x480 with 1 Axes>"
      ]
     },
     "metadata": {},
     "output_type": "display_data"
    }
   ],
   "source": [
    "# clustered bar chart has been generated to visualise the physical attribute of each characteristic in each of the species\n",
    "\n",
    "import numpy as np\n",
    "import matplotlib.pyplot as plt\n",
    "from sklearn.datasets import load_iris\n",
    "\n",
    "##############################################################\n",
    "### Generate values to be plotted in a clustered bar chart ###\n",
    "##############################################################\n",
    "\n",
    "# create shorthand for loading iris dataset\n",
    "iris = load_iris()\n",
    "\n",
    "# create array for each characteristic\n",
    "species_labels = iris.target\n",
    "sepal_lengths = iris.data[:, 0]\n",
    "sepal_widths = iris.data[:, 1]\n",
    "petal_lenghts = iris.data[:, 2]\n",
    "petal_widths = iris.data[:, 3]\n",
    "\n",
    "### generate array for each characteristic for each species\n",
    "# setosa\n",
    "setosa_sepal_length_values = sepal_lengths[species_labels == 0]\n",
    "setosa_sepal_width_values = sepal_widths[species_labels == 0]\n",
    "setosa_petal_length_values = petal_lenghts[species_labels == 0]\n",
    "setosa_petal_width_values = petal_widths[species_labels == 0]\n",
    "# versicolor\n",
    "versicolor_sepal_length_values = sepal_lengths[species_labels == 1]\n",
    "versicolor_sepal_width_values =sepal_widths[species_labels == 1]\n",
    "versicolor_petal_length_values = petal_lenghts[species_labels == 1]\n",
    "versicolor_petal_width_values = petal_widths[species_labels == 1]\n",
    "# virginica\n",
    "virginica_sepal_length_values = sepal_lengths[species_labels == 2]\n",
    "virginica_sepal_width_values =sepal_widths[species_labels == 2]\n",
    "virginica_petal_length_values = petal_lenghts[species_labels == 2]\n",
    "virginica_petal_width_values = petal_widths[species_labels == 2]\n",
    "\n",
    "### generate mean average for each characteristic for each species\n",
    "# setosa\n",
    "setosa_sepal_length_average = np.mean(setosa_sepal_length_values)\n",
    "setosa_sepal_width_average = np.mean(setosa_sepal_width_values)\n",
    "setosa_petal_length_average = np.mean(setosa_petal_length_values)\n",
    "setosa_petal_width_average = np.mean(setosa_petal_width_values)\n",
    "\n",
    "# versicolor\n",
    "versicolor_sepal_length_average = np.mean(versicolor_sepal_length_values)\n",
    "versicolor_sepal_width_average = np.mean(versicolor_sepal_width_values)\n",
    "versicolor_petal_length_average = np.mean(versicolor_petal_length_values)\n",
    "versicolor_petal_width_average = np.mean(versicolor_petal_width_values)\n",
    "\n",
    "# virginica\n",
    "virginica_sepal_length_average = np.mean(virginica_sepal_length_values)\n",
    "virginica_sepal_width_average = np.mean(virginica_sepal_width_values)\n",
    "virginica_petal_length_average = np.mean(virginica_petal_length_values)\n",
    "virginica_petal_width_average = np.mean(virginica_petal_width_values)\n",
    "\n",
    "\n",
    "###########################################################################\n",
    "# calculate sd of each array\n",
    "###########################################################################\n",
    "\n",
    "setosa_sepal_length_sd = np.std(setosa_sepal_length_values)\n",
    "setosa_sepal_length_error = 1.96 * setosa_sepal_length_sd / np.sqrt(len(setosa_sepal_length_values))\n",
    "setosa_sepal_length_error\n",
    "\n",
    "# setosa\n",
    "setosa_sepal_length_sd = np.std(setosa_sepal_length_values)\n",
    "setosa_sepal_width_sd = np.std(setosa_sepal_width_values)\n",
    "setosa_petal_length_sd = np.std(setosa_petal_length_values)\n",
    "setosa_petal_width_sd = np.std(setosa_petal_width_values)\n",
    "\n",
    "# versicolor\n",
    "versicolor_sepal_length_sd = np.std(versicolor_sepal_length_values)\n",
    "versicolor_sepal_width_sd = np.std(versicolor_sepal_width_values)\n",
    "versicolor_petal_length_sd = np.std(versicolor_petal_length_values)\n",
    "versicolor_petal_width_sd = np.std(versicolor_petal_width_values)\n",
    "\n",
    "# virginica\n",
    "virginica_sepal_length_sd = np.std(virginica_sepal_length_values)\n",
    "virginica_sepal_width_sd = np.std(virginica_sepal_width_values)\n",
    "virginica_petal_length_sd = np.std(virginica_petal_length_values)\n",
    "virginica_petal_width_sd = np.std(virginica_petal_width_values)\n",
    "\n",
    "# setosa\n",
    "setosa_sepal_length_error = 1.96 * setosa_sepal_length_sd / np.sqrt(len(setosa_sepal_length_values))\n",
    "setosa_sepal_width_error = 1.96 * setosa_sepal_width_sd / np.sqrt(len(setosa_sepal_width_values))\n",
    "setosa_petal_length_error = 1.96 * setosa_petal_length_sd / np.sqrt(len(setosa_petal_length_values))\n",
    "setosa_petal_width_error = 1.96 * setosa_petal_width_sd / np.sqrt(len(setosa_petal_width_values))\n",
    "\n",
    "# versicolor\n",
    "versicolor_sepal_length_error = 1.96 * versicolor_sepal_length_sd / np.sqrt(len(versicolor_sepal_length_values))\n",
    "versicolor_sepal_width_error = 1.96 * versicolor_sepal_width_sd / np.sqrt(len(versicolor_sepal_width_values))\n",
    "versicolor_petal_length_error = 1.96 * versicolor_petal_length_sd / np.sqrt(len(versicolor_petal_length_values))\n",
    "versicolor_petal_width_error = 1.96 * versicolor_petal_width_sd / np.sqrt(len(versicolor_petal_width_values))\n",
    "\n",
    "# virginica\n",
    "virginica_sepal_length_error = 1.96 * virginica_sepal_length_sd / np.sqrt(len(virginica_sepal_length_values))\n",
    "virginica_sepal_width_error = 1.96 * virginica_sepal_width_sd / np.sqrt(len(virginica_sepal_width_values))\n",
    "virginica_petal_length_error = 1.96 * virginica_petal_length_sd / np.sqrt(len(virginica_petal_length_values))\n",
    "virginica_petal_width_error = 1.96 * virginica_petal_width_sd / np.sqrt(len(virginica_petal_width_values))\n",
    "\n",
    "sepal_length_error = [setosa_sepal_length_error, \n",
    "                      versicolor_sepal_length_error, \n",
    "                      virginica_sepal_length_error]           \n",
    "\n",
    "sepal_width_error = [setosa_sepal_width_error, \n",
    "                     versicolor_sepal_width_error, \n",
    "                     virginica_sepal_width_error]\n",
    "        \n",
    "petal_length_error = [setosa_petal_length_error, \n",
    "                      versicolor_petal_length_error,\n",
    "                      virginica_petal_length_error]\n",
    "\n",
    "petal_width_error = [setosa_petal_width_error,\n",
    "                     versicolor_petal_width_error, \n",
    "                     virginica_petal_width_error]\n",
    "\n",
    "################################################\n",
    "### Plot the average lenght for each species ###\n",
    "################################################\n",
    "\n",
    "# define each group\n",
    "x = ['setosa',\n",
    "     'versicolor',\n",
    "     'virginica']\n",
    "y1 = [setosa_sepal_length_average,\n",
    "      versicolor_sepal_length_average,\n",
    "      virginica_sepal_length_average]\n",
    "\n",
    "y2 = [setosa_sepal_width_average,\n",
    "      versicolor_sepal_width_average,\n",
    "      virginica_sepal_width_average]\n",
    "\n",
    "y3 = [setosa_petal_length_average, \n",
    "      versicolor_petal_length_average, \n",
    "      virginica_petal_length_average]\n",
    "\n",
    "y4 = [setosa_petal_width_average, \n",
    "      versicolor_petal_width_average, \n",
    "      virginica_petal_width_average]\n",
    "\n",
    "# Set bar width\n",
    "bar_width = 0.2\n",
    "\n",
    "# set bar spacing\n",
    "r1 = np.arange(len(y1))\n",
    "r2 = [x + bar_width for x in r1]\n",
    "r3 = [x + bar_width for x in r2]\n",
    "r4 = [x + bar_width for x in r3]\n",
    "\n",
    "# plot bar chart\n",
    "plt.bar(r1, y1, color='blue', width=bar_width, edgecolor='black', label='Septal Lenght')\n",
    "plt.bar(r2, y2, color='red', width=bar_width, edgecolor='black', label='Sepal Width')\n",
    "plt.bar(r3, y3, color='green', width=bar_width, edgecolor='black', label='Pethal Height')\n",
    "plt.bar(r4, y4, color='yellow', width=bar_width, edgecolor='black', label='Pethal Width')\n",
    "\n",
    "# Add the error bars\n",
    "plt.errorbar(r1, y1, yerr=sepal_length_error, fmt='none', ecolor='black', capsize=4)\n",
    "plt.errorbar(r2, y2, yerr=sepal_width_error, fmt='none', ecolor='black', capsize=4)\n",
    "plt.errorbar(r3, y3, yerr=petal_length_error, fmt='none', ecolor='black', capsize=4)\n",
    "plt.errorbar(r4, y4, yerr=petal_width_error, fmt='none', ecolor='black', capsize=4)\n",
    "\n",
    "# add axis labels\n",
    "plt.xlabel('Species')\n",
    "plt.ylabel('Lenght (cm)')\n",
    "\n",
    "plt.xticks([r + bar_width for r in range(len(y1))], x)\n",
    "\n",
    "# Add figue legend\n",
    "plt.legend()\n",
    "\n",
    "# print plot\n",
    "plt.show()"
   ]
  },
  {
   "cell_type": "code",
   "execution_count": 3,
   "id": "77cecd1e",
   "metadata": {},
   "outputs": [
    {
     "data": {
      "text/plain": [
       "<matplotlib.legend.Legend at 0x7f99903057e0>"
      ]
     },
     "execution_count": 3,
     "metadata": {},
     "output_type": "execute_result"
    },
    {
     "data": {
      "image/png": "[encoded data removed]",
      "text/plain": [
       "<Figure size 800x600 with 1 Axes>"
      ]
     },
     "metadata": {},
     "output_type": "display_data"
    }
   ],
   "source": [
    "import mpl_toolkits.mplot3d  # noqa: F401\n",
    "from sklearn import datasets\n",
    "from sklearn.decomposition import PCA\n",
    "import numpy as np\n",
    "import matplotlib.pyplot as plt\n",
    "from sklearn.datasets import load_iris\n",
    "\n",
    "sepal_lengths = iris.data[:, 0]\n",
    "sepal_widths = iris.data[:, 1]\n",
    "petal_lenghts = iris.data[:, 2]\n",
    "petal_widths = iris.data[:, 3]\n",
    "\n",
    "\n",
    "x_min, x_max = min(sepal_lengths) - 0.5, max(sepal_lengths) + 1\n",
    "y_min, y_max = min(sepal_widths) - 0.5, max(sepal_widths) + 1\n",
    "\n",
    "\n",
    "scatter_labels=[\"Setosa\", \"Versicolor\", \"Virginica\"]\n",
    "\n",
    "plt.figure(2, figsize=(8, 6))\n",
    "plt.clf()\n",
    "\n",
    "# Plot the training points\n",
    "scatter = plt.scatter(sepal_lengths, sepal_widths, \n",
    "                      c=iris.target, \n",
    "                      cmap=plt.cm.Set1, \n",
    "                      edgecolor=\"k\", \n",
    "                      label=[\"Setosa\", \"Versicolor\", \"Virginica\"])\n",
    "\n",
    "plt.xlabel(\"Sepal Length\")\n",
    "plt.ylabel(\"Sepal Width\")\n",
    "\n",
    "plt.xlim(x_min, x_max)\n",
    "plt.ylim(y_min, y_max)\n",
    "plt.xticks(())\n",
    "plt.yticks(())\n",
    "\n",
    "plt.legend([\"Setosa\", \"Versicolor\", \"Virginica\"])\n",
    "plt.legend([\"Versicolor\"])\n",
    "plt.legend([ \"Virginica\"])\n",
    "\n"
   ]
  },
  {
   "cell_type": "code",
   "execution_count": 4,
   "id": "85d69374",
   "metadata": {},
   "outputs": [
    {
     "data": {
      "text/plain": [
       "<matplotlib.legend.Legend at 0x7f99b0a2bac0>"
      ]
     },
     "execution_count": 4,
     "metadata": {},
     "output_type": "execute_result"
    },
    {
     "data": {
      "image/png": "[encoded data removed]",
      "text/plain": [
       "<Figure size 800x600 with 1 Axes>"
      ]
     },
     "metadata": {},
     "output_type": "display_data"
    }
   ],
   "source": [
    "#####################################################\n",
    "### Scatter Plot of petal_lenghts vs petal_widths ###\n",
    "#####################################################\n",
    "\n",
    "\n",
    "x_min, x_max = min(petal_lenghts) - 0.5, max(petal_lenghts) + 1\n",
    "y_min, y_max = min(petal_widths) - 0.5, max(petal_widths) + 1\n",
    "\n",
    "plt.figure(2, figsize=(8, 6))\n",
    "plt.clf()\n",
    "\n",
    "# Plot the training points\n",
    "scatter = plt.scatter(petal_lenghts, petal_widths, \n",
    "                      c=iris.target, \n",
    "                      cmap=plt.cm.Set1, \n",
    "                      edgecolor=\"k\", \n",
    "                      )\n",
    "\n",
    "plt.xlabel(\"Petal length\")\n",
    "plt.ylabel(\"Petal width\")\n",
    "\n",
    "plt.xlim(x_min, x_max)\n",
    "plt.ylim(y_min, y_max)\n",
    "plt.xticks(())\n",
    "plt.yticks(())\n",
    "\n",
    "plt.legend(labels=[\"Setosa\",\"Versicolor\",\"Virginica\"])\n"
   ]
  },
  {
   "cell_type": "code",
   "execution_count": 5,
   "id": "7576c6d9",
   "metadata": {},
   "outputs": [
    {
     "name": "stdout",
     "output_type": "stream",
     "text": [
      "T-Test:\n",
      "sepal_lenght Vs. sepal_width; p-value = 0.0050293474645264225; Significant\n",
      "sepal_lenght Vs. petal_length; p-value = 0.18165888868936925; Not significant\n",
      "sepal_lenght Vs. petal_width; p-value = 0.0025651736922498616; Significant\n",
      "sepal_width Vs. petal_length; p-value = 0.5972670160471859; Not significant\n",
      "sepal_width Vs. petal_width; p-value = 0.028316128201535208; Significant\n",
      "petal_length Vs. petal_width; p-value = 0.12322492552512222; Not significant\n"
     ]
    }
   ],
   "source": [
    "#######################################################################################\n",
    "### Determine the if there is a significant difference between each of the features ###\n",
    "#######################################################################################\n",
    "\n",
    "# define groups of different features\n",
    "\n",
    "sepal_lenght_group = [setosa_sepal_length_average,\n",
    "                      versicolor_sepal_length_average,\n",
    "                      virginica_sepal_length_average]\n",
    "\n",
    "sepal_width_group = [setosa_sepal_width_average,\n",
    "                     versicolor_sepal_width_average,\n",
    "                     virginica_sepal_width_average]\n",
    "\n",
    "petal_length_group = [setosa_petal_length_average, \n",
    "                      versicolor_petal_length_average, \n",
    "                      virginica_petal_length_average]\n",
    "\n",
    "petal_width_group = [setosa_petal_width_average, \n",
    "                     versicolor_petal_width_average, \n",
    "                     virginica_petal_width_average]\n",
    "\n",
    "\n",
    "# import module for t test\n",
    "\n",
    "from scipy.stats import ttest_ind\n",
    "\n",
    "# define arrays for t test\n",
    "\n",
    "group_arrays = [sepal_lenght_group,\n",
    "                sepal_width_group,\n",
    "                petal_length_group,\n",
    "                petal_width_group]\n",
    "\n",
    "# generate names for printed output\n",
    "\n",
    "group_names = ['sepal_lenght',\n",
    "               'sepal_width',\n",
    "               'petal_length',\n",
    "               'petal_width']\n",
    "\n",
    "# print title\n",
    "\n",
    "print(\"T-Test:\")\n",
    "\n",
    "# selecet all possible comparisions for t-test\n",
    "\n",
    "for i in range(len(group_arrays)):\n",
    "    for j in range(i+1, len(group_arrays)):\n",
    "        p = ttest_ind(group_arrays[i], group_arrays[j])[1]\n",
    "        \n",
    "        # print the p value and whether or not it is significant\n",
    "        if p < 0.05:\n",
    "            print(f\"{group_names[i]} Vs. {group_names[j]}; p-value = {p}; Significant\")\n",
    "        else:\n",
    "            print(f\"{group_names[i]} Vs. {group_names[j]}; p-value = {p}; Not significant\")\n",
    "\n",
    "            "
   ]
  },
  {
   "cell_type": "code",
   "execution_count": 6,
   "id": "fa7c6a28",
   "metadata": {},
   "outputs": [
    {
     "name": "stderr",
     "output_type": "stream",
     "text": [
      "/Users/conorbryan/anaconda3/lib/python3.10/site-packages/matplotlib/text.py:1279: FutureWarning: elementwise comparison failed; returning scalar instead, but in the future will perform elementwise comparison\n",
      "  if s != self._text:\n"
     ]
    },
    {
     "data": {
      "text/plain": [
       "<Figure size 640x480 with 0 Axes>"
      ]
     },
     "metadata": {},
     "output_type": "display_data"
    }
   ],
   "source": [
    "###################################\n",
    "### histogram for sepal lenghts ###\n",
    "###################################\n",
    "\n",
    "plt.hist(sepal_lengths)\n",
    "plt.title(sepal_lengths)\n",
    "plt.xlabel('cm long')\n",
    "plt.ylabel('Frequency')\n",
    "plt.savefig(f'iris_histogram_sepal_lengths.png')\n",
    "plt.clf()"
   ]
  },
  {
   "cell_type": "code",
   "execution_count": 7,
   "id": "b68f984b",
   "metadata": {},
   "outputs": [
    {
     "data": {
      "text/plain": [
       "<Figure size 640x480 with 0 Axes>"
      ]
     },
     "metadata": {},
     "output_type": "display_data"
    }
   ],
   "source": [
    "##################################\n",
    "### histogram for sepal widths ###\n",
    "##################################\n",
    "\n",
    "plt.hist(sepal_widths)\n",
    "plt.title(sepal_widths)\n",
    "plt.xlabel('cm long')\n",
    "plt.ylabel('Frequency')\n",
    "plt.savefig(f'iris_histogram_sepal_widths.png')\n",
    "plt.clf()"
   ]
  },
  {
   "cell_type": "code",
   "execution_count": 8,
   "id": "8f3ed40d",
   "metadata": {},
   "outputs": [
    {
     "data": {
      "text/plain": [
       "<Figure size 640x480 with 0 Axes>"
      ]
     },
     "metadata": {},
     "output_type": "display_data"
    }
   ],
   "source": [
    "###################################\n",
    "### histogram for petal lenghts ###\n",
    "###################################\n",
    "\n",
    "plt.hist(petal_lenghts)\n",
    "plt.title(petal_lenghts)\n",
    "plt.xlabel('cm long')\n",
    "plt.ylabel('Frequency')\n",
    "plt.savefig(f'iris_histogram_petal_lenghts.png')\n",
    "plt.clf()"
   ]
  },
  {
   "cell_type": "code",
   "execution_count": 9,
   "id": "2dacefaa",
   "metadata": {},
   "outputs": [
    {
     "data": {
      "text/plain": [
       "<Figure size 640x480 with 0 Axes>"
      ]
     },
     "metadata": {},
     "output_type": "display_data"
    }
   ],
   "source": [
    "##################################\n",
    "### histogram for petal widths ###\n",
    "##################################\n",
    "\n",
    "plt.hist(petal_widths) \n",
    "plt.title(sepal_lengths)\n",
    "plt.xlabel('cm long')\n",
    "plt.ylabel('Frequency')\n",
    "plt.savefig(f'iris_histogram_petal_widths.png')\n",
    "plt.clf()"
   ]
  },
  {
   "cell_type": "code",
   "execution_count": null,
   "id": "3da8c7c5",
   "metadata": {},
   "outputs": [],
   "source": []
  },
  {
   "cell_type": "code",
   "execution_count": null,
   "id": "b7e12791",
   "metadata": {},
   "outputs": [],
   "source": []
  },
  {
   "cell_type": "code",
   "execution_count": null,
   "id": "65d60fdc",
   "metadata": {},
   "outputs": [],
   "source": []
  },
  {
   "cell_type": "code",
   "execution_count": null,
   "id": "c2513d7e",
   "metadata": {},
   "outputs": [],
   "source": []
  },
  {
   "cell_type": "code",
   "execution_count": null,
   "id": "05cc3b60",
   "metadata": {},
   "outputs": [],
   "source": []
  },
  {
   "cell_type": "code",
   "execution_count": null,
   "id": "3eb366aa",
   "metadata": {},
   "outputs": [],
   "source": []
  },
  {
   "cell_type": "code",
   "execution_count": null,
   "id": "3efc073a",
   "metadata": {},
   "outputs": [],
   "source": []
  },
  {
   "cell_type": "code",
   "execution_count": null,
   "id": "e15a3429",
   "metadata": {},
   "outputs": [],
   "source": []
  },
  {
   "cell_type": "code",
   "execution_count": 10,
   "id": "4121d3f5",
   "metadata": {},
   "outputs": [
    {
     "data": {
      "text/plain": [
       "<Figure size 640x480 with 0 Axes>"
      ]
     },
     "metadata": {},
     "output_type": "display_data"
    }
   ],
   "source": [
    "import numpy as np\n",
    "import matplotlib.pyplot as plt\n",
    "from sklearn.datasets import load_iris\n",
    "\n",
    "# Load the Iris dataset\n",
    "iris = load_iris()\n",
    "X = iris.data\n",
    "y = iris.target\n",
    "\n",
    "# Create a list of variable names\n",
    "variable_names = ['sepal length', 'sepal width', 'petal length', 'petal width']\n",
    "\n",
    "# Output a summary of each variable to a text file\n",
    "with open('summary.txt', 'w') as f:\n",
    "    for i in range(X.shape[1]):\n",
    "        f.write(f\"Variable: {variable_names[i]}\\n\")\n",
    "        f.write(f\"Minimum: {np.min(X[:, i]):.2f}\\n\")\n",
    "        f.write(f\"Maximum: {np.max(X[:, i]):.2f}\\n\")\n",
    "        f.write(f\"Mean: {np.mean(X[:, i]):.2f}\\n\")\n",
    "        f.write(f\"Standard Deviation: {np.std(X[:, i]):.2f}\\n\\n\")\n",
    "\n",
    "# Save a histogram of each variable to a PNG file\n",
    "for i in range(X.shape[1]):\n",
    "    plt.hist(X[:, i], bins=20)\n",
    "    plt.title(variable_names[i])\n",
    "    plt.xlabel('Value')\n",
    "    plt.ylabel('Frequency')\n",
    "    plt.savefig(f'histogram_{variable_names[i]}.png')\n",
    "    plt.clf()\n",
    "\n",
    "# Output a scatter plot of each pair of variables\n",
    "for i in range(X.shape[1]):\n",
    "    for j in range(i+1, X.shape[1]):\n",
    "        plt.scatter(X[:, i], X[:, j], c=y, cmap='viridis')\n",
    "        plt.title(f'{variable_names[i]} vs {variable_names[j]}')\n",
    "        plt.xlabel(variable_names[i])\n",
    "        plt.ylabel(variable_names[j])\n",
    "        plt.savefig(f'scatter_{variable_names[i]}_{variable_names[j]}.png')\n",
    "        plt.clf()\n",
    "\n",
    "# Perform any other analysis as desired\n",
    "# For example, you could fit a machine learning model to the data using scikit-learn\n",
    "\n"
   ]
  },
  {
   "cell_type": "code",
   "execution_count": null,
   "id": "daddc522",
   "metadata": {},
   "outputs": [],
   "source": []
  },
  {
   "cell_type": "code",
   "execution_count": null,
   "id": "6846cfcc",
   "metadata": {},
   "outputs": [],
   "source": []
  },
  {
   "cell_type": "code",
   "execution_count": 11,
   "id": "7adcfd6e",
   "metadata": {},
   "outputs": [
    {
     "data": {
      "text/plain": [
       "<Figure size 640x480 with 0 Axes>"
      ]
     },
     "metadata": {},
     "output_type": "display_data"
    }
   ],
   "source": [
    "import numpy as np\n",
    "import matplotlib.pyplot as plt\n",
    "from sklearn.datasets import load_iris\n",
    "\n",
    "# Load the Iris dataset\n",
    "iris = load_iris()\n",
    "X = iris.data\n",
    "y = iris.target\n",
    "\n",
    "# Create a list of variable names\n",
    "variable_names = ['sepal length', 'sepal width', 'petal length', 'petal width']\n",
    "\n",
    "# Output a summary of each variable to a text file\n",
    "with open('iris_summary.txt', 'w') as f:\n",
    "    for i in range(X.shape[1]):\n",
    "        f.write(f\"Variable: {variable_names[i]}\\n\")\n",
    "        f.write(f\"Minimum: {np.min(X[:, i]):.2f}\\n\")\n",
    "        f.write(f\"Maximum: {np.max(X[:, i]):.2f}\\n\")\n",
    "        f.write(f\"Mean: {np.mean(X[:, i]):.2f}\\n\")\n",
    "        f.write(f\"Standard Deviation: {np.std(X[:, i]):.2f}\\n\\n\")\n",
    "\n",
    "# Save a histogram of each variable to a PNG file\n",
    "for i in range(X.shape[1]):\n",
    "    plt.hist(X[:, i], bins=20)\n",
    "    plt.title(variable_names[i])\n",
    "    plt.xlabel('cm')\n",
    "    plt.ylabel('Frequency')\n",
    "    plt.savefig(f'iris_histogram_{variable_names[i]}.png')\n",
    "    plt.clf()\n",
    "\n",
    "# Output a scatter plot of each pair of variables\n",
    "for i in range(X.shape[1]):\n",
    "    for j in range(i+1, X.shape[1]):\n",
    "        plt.scatter(X[:, i], X[:, j], c=y, cmap='viridis')\n",
    "        plt.title(f'{variable_names[i]} vs {variable_names[j]}')\n",
    "        plt.xlabel(variable_names[i])\n",
    "        plt.ylabel(variable_names[j])\n",
    "        plt.savefig(f'iris_scatter_{variable_names[i]}_{variable_names[j]}.png')\n",
    "        plt.clf()\n",
    "\n",
    "# Perform any other analysis as desired\n",
    "# For example, you could fit a machine learning model to the data using scikit-learn\n",
    "\n"
   ]
  },
  {
   "cell_type": "code",
   "execution_count": null,
   "id": "1ecd0d7d",
   "metadata": {},
   "outputs": [],
   "source": []
  },
  {
   "cell_type": "code",
   "execution_count": 12,
   "id": "9372c88f",
   "metadata": {},
   "outputs": [
    {
     "data": {
      "text/plain": [
       "<Figure size 640x480 with 0 Axes>"
      ]
     },
     "metadata": {},
     "output_type": "display_data"
    }
   ],
   "source": [
    "import numpy as np\n",
    "import matplotlib.pyplot as plt\n",
    "from sklearn.datasets import load_iris\n",
    "\n",
    "# Load the Iris dataset\n",
    "iris = load_iris()\n",
    "X = iris.data\n",
    "y = iris.target\n",
    "\n",
    "# Create a list of variable names\n",
    "variable_names = ['sepal length', 'sepal width', 'petal length', 'petal width']\n",
    "\n",
    "# Output a summary of each variable to a text file\n",
    "with open('iris_summary.txt', 'w') as f:\n",
    "    for i in range(X.shape[1]):\n",
    "        f.write(f\"Variable: {variable_names[i]}\\n\")\n",
    "        f.write(f\"Minimum: {np.min(X[:, i]):.2f}\\n\")\n",
    "        f.write(f\"Maximum: {np.max(X[:, i]):.2f}\\n\")\n",
    "        f.write(f\"Mean: {np.mean(X[:, i]):.2f}\\n\")\n",
    "        f.write(f\"Standard Deviation: {np.std(X[:, i]):.2f}\\n\\n\")\n",
    "\n",
    "# Save a histogram of each variable to a PNG file\n",
    "for i in range(X.shape[1]):\n",
    "    plt.hist(X[:, i], bins=20)\n",
    "    plt.title(variable_names[i])\n",
    "    plt.xlabel('cm')\n",
    "    plt.ylabel('Frequency')\n",
    "    plt.savefig(f'iris_histogram_{variable_names[i]}.png')\n",
    "    plt.clf()\n",
    "\n",
    "# Output a scatter plot of each pair of variables\n",
    "for i in range(X.shape[1]):\n",
    "    for j in range(i+1, X.shape[1]):\n",
    "        plt.scatter(X[:, i], X[:, j], c=y, cmap='viridis')\n",
    "        plt.title(f'{variable_names[i]} vs {variable_names[j]}')\n",
    "        plt.xlabel(variable_names[i])\n",
    "        plt.ylabel(variable_names[j])\n",
    "        plt.savefig(f'iris_scatter_{variable_names[i]}_{variable_names[j]}.png')\n",
    "        plt.clf()\n",
    "\n",
    "# Perform any other analysis as desired\n",
    "# For example, you could fit a machine learning model to the data using scikit-learn\n",
    "\n"
   ]
  },
  {
   "cell_type": "code",
   "execution_count": 13,
   "id": "12372560",
   "metadata": {},
   "outputs": [
    {
     "data": {
      "text/plain": [
       "<Figure size 640x480 with 0 Axes>"
      ]
     },
     "metadata": {},
     "output_type": "display_data"
    }
   ],
   "source": [
    "import numpy as np\n",
    "import matplotlib.pyplot as plt\n",
    "from sklearn.datasets import load_iris\n",
    "\n",
    "# Load the Iris dataset\n",
    "iris = load_iris()\n",
    "X = iris.data\n",
    "y = iris.target\n",
    "\n",
    "# Create a list of variable names\n",
    "variable_names = ['sepal length', 'sepal width', 'petal length', 'petal width']\n",
    "\n",
    "# Output a summary of each variable to a text file\n",
    "with open('iris_summary.txt', 'w') as f:\n",
    "    for i in range(X.shape[1]):\n",
    "        f.write(f\"Variable: {variable_names[i]}\\n\")\n",
    "        f.write(f\"Minimum: {np.min(X[:, i]):.2f}\\n\")\n",
    "        f.write(f\"Maximum: {np.max(X[:, i]):.2f}\\n\")\n",
    "        f.write(f\"Mean: {np.mean(X[:, i]):.2f}\\n\")\n",
    "        f.write(f\"Standard Deviation: {np.std(X[:, i]):.2f}\\n\\n\")\n",
    "\n",
    "# Save a histogram of each variable to a PNG file\n",
    "for i in range(X.shape[1]):\n",
    "    plt.hist(X[:, i], bins=20)\n",
    "    plt.title(variable_names[i])\n",
    "    plt.xlabel('cm')\n",
    "    plt.ylabel('Frequency')\n",
    "    plt.savefig(f'iris_histogram_{variable_names[i]}.png')\n",
    "    plt.clf()\n",
    "\n",
    "\n",
    "# Perform any other analysis as desired\n",
    "# For example, you could fit a machine learning model to the data using scikit-learn\n",
    "\n"
   ]
  },
  {
   "cell_type": "code",
   "execution_count": 14,
   "id": "6cd4b34f",
   "metadata": {},
   "outputs": [
    {
     "data": {
      "text/plain": [
       "<Figure size 640x480 with 0 Axes>"
      ]
     },
     "metadata": {},
     "output_type": "display_data"
    }
   ],
   "source": [
    "for i in range(X.shape[1]):\n",
    "    for j in range(i+1, X.shape[1]):\n",
    "        plt.scatter(X[:, i], X[:, j], c=y, cmap='viridis')\n",
    "        plt.title(f'{variable_names[i]} vs {variable_names[j]}')\n",
    "        plt.xlabel(variable_names[i])\n",
    "        plt.ylabel(variable_names[j])\n",
    "        plt.savefig(f'iris_scatter_{variable_names[i]}_{variable_names[j]}.png')\n",
    "        plt.clf()"
   ]
  },
  {
   "cell_type": "code",
   "execution_count": 15,
   "id": "8570b872",
   "metadata": {},
   "outputs": [
    {
     "data": {
      "text/plain": [
       "<Figure size 640x480 with 0 Axes>"
      ]
     },
     "metadata": {},
     "output_type": "display_data"
    }
   ],
   "source": [
    "# Save a histogram of each variable to a PNG file\n",
    "for i in range(X.shape[1]):\n",
    "    plt.hist(X[:, i], bins=20)\n",
    "    plt.title(variable_names[i])\n",
    "    plt.xlabel('cm')\n",
    "    plt.ylabel('Frequency')\n",
    "    plt.savefig(f'iris_histogram_{variable_names[i]}.png')\n",
    "    plt.clf()"
   ]
  },
  {
   "cell_type": "code",
   "execution_count": 16,
   "id": "d982a261",
   "metadata": {},
   "outputs": [
    {
     "ename": "TypeError",
     "evalue": "'tuple' object cannot be interpreted as an integer",
     "output_type": "error",
     "traceback": [
      "\u001b[0;31m---------------------------------------------------------------------------\u001b[0m",
      "\u001b[0;31mTypeError\u001b[0m                                 Traceback (most recent call last)",
      "Cell \u001b[0;32mIn[16], line 3\u001b[0m\n\u001b[1;32m      1\u001b[0m x \u001b[38;5;241m=\u001b[39m (sepal_lengths, sepal_widths, petal_lenghts, petal_widths)\n\u001b[0;32m----> 3\u001b[0m \u001b[38;5;28;01mfor\u001b[39;00m i \u001b[38;5;129;01min\u001b[39;00m \u001b[38;5;28;43mrange\u001b[39;49m\u001b[43m(\u001b[49m\u001b[43mx\u001b[49m\u001b[43m)\u001b[49m:\n\u001b[1;32m      4\u001b[0m     plt\u001b[38;5;241m.\u001b[39mhist(x[:,\u001b[38;5;241m1\u001b[39m])\n\u001b[1;32m      5\u001b[0m     plt\u001b[38;5;241m.\u001b[39mtitle([i])\n",
      "\u001b[0;31mTypeError\u001b[0m: 'tuple' object cannot be interpreted as an integer"
     ]
    }
   ],
   "source": [
    "x = (sepal_lengths, sepal_widths, petal_lenghts, petal_widths)\n",
    "\n",
    "for i in range(x):\n",
    "    plt.hist(x[:,1])\n",
    "    plt.title([i])\n",
    "    plt.xlabel('cm long')\n",
    "    plt.ylabel('Frequency')\n",
    "    plt.savefig(f'iris_histogram_{[i]}.png')\n",
    "    plt.clf()\n",
    "\n",
    "\n",
    "\n",
    "\n",
    "plt.hist(sepal_widths)\n",
    "\n",
    "\n",
    "\n",
    "plt.hist(petal_lenghts)\n",
    "\n",
    "\n",
    "\n",
    "plt.hist(petal_widths) \n"
   ]
  },
  {
   "cell_type": "code",
   "execution_count": null,
   "id": "926fe0ce",
   "metadata": {},
   "outputs": [],
   "source": [
    "\n",
    "plt.hist(sepal_lengths)\n",
    "plt.title(sepal_lengths)\n",
    "plt.xlabel('cm long')\n",
    "plt.ylabel('Frequency')\n",
    "plt.savefig(f'iris_histogram_sepal_lengths.png')\n",
    "plt.clf()\n",
    "\n",
    "\n",
    "\n",
    "\n",
    "plt.hist(sepal_widths)\n",
    "plt.title(sepal_widths)\n",
    "plt.xlabel('cm long')\n",
    "plt.ylabel('Frequency')\n",
    "plt.savefig(f'iris_histogram_sepal_widths.png')\n",
    "plt.clf()\n",
    "\n",
    "\n",
    "plt.hist(petal_lenghts)\n",
    "plt.title(petal_lenghts)\n",
    "plt.xlabel('cm long')\n",
    "plt.ylabel('Frequency')\n",
    "plt.savefig(f'iris_histogram_petal_lenghts.png')\n",
    "plt.clf()\n",
    "\n",
    "\n",
    "plt.hist(petal_widths) \n",
    "plt.title(sepal_lengths)\n",
    "plt.xlabel('cm long')\n",
    "plt.ylabel('Frequency')\n",
    "plt.savefig(f'iris_histogram_petal_widths.png')\n",
    "plt.clf()"
   ]
  },
  {
   "cell_type": "code",
   "execution_count": null,
   "id": "74c770cc",
   "metadata": {},
   "outputs": [],
   "source": [
    "x = (sepal_lengths, sepal_widths, petal_lenghts, petal_widths)\n",
    "\n",
    "for i in range(x):\n"
   ]
  },
  {
   "cell_type": "code",
   "execution_count": null,
   "id": "a725e0e9",
   "metadata": {},
   "outputs": [],
   "source": []
  }
 ],
 "metadata": {
  "kernelspec": {
   "display_name": "Python 3 (ipykernel)",
   "language": "python",
   "name": "python3"
  },
  "language_info": {
   "codemirror_mode": {
    "name": "ipython",
    "version": 3
   },
   "file_extension": ".py",
   "mimetype": "text/x-python",
   "name": "python",
   "nbconvert_exporter": "python",
   "pygments_lexer": "ipython3",
   "version": "3.10.9"
  }
 },
 "nbformat": 4,
 "nbformat_minor": 5
}
